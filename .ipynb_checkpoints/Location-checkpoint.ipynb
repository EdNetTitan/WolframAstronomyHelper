{
 "cells": [
  {
   "cell_type": "markdown",
   "id": "3a61fb19-8cf0-4a4a-948a-c7ae19991bb4",
   "metadata": {},
   "source": [
    "<center><bold>Welcome to the Wolframe Engine ipynb Astronomy Script</bold></center>"
   ]
  },
  {
   "cell_type": "code",
   "execution_count": null,
   "id": "82851d91-073d-4e94-b3f1-bb443b7fbba9",
   "metadata": {},
   "outputs": [],
   "source": [
    "spdata = GeoGraphics[CityData[{\"New York\",\"United States\"}]]"
   ]
  },
  {
   "cell_type": "code",
   "execution_count": null,
   "id": "86f62d1b-c68f-4f03-9c2b-bd30260374cf",
   "metadata": {},
   "outputs": [],
   "source": []
  },
  {
   "cell_type": "code",
   "execution_count": null,
   "id": "2b4d819d-a45b-4686-b7cb-e6cfa3c76beb",
   "metadata": {},
   "outputs": [],
   "source": []
  },
  {
   "cell_type": "code",
   "execution_count": null,
   "id": "c598d755-8d0d-4417-ac89-688bace52b8c",
   "metadata": {},
   "outputs": [],
   "source": [
    "GeoGraphics[\n",
    "Table[\n",
    "{\n",
    "GeoStyling[{\"Image\", president[[i]]}],\n",
    "Polygon[countries[[i]]]},\n",
    "{i, 1, Length[countries]}],GeoBackground -> \"Satellite\"\n",
    "]"
   ]
  },
  {
   "cell_type": "code",
   "execution_count": null,
   "id": "bb1fd207-b634-4ef1-85d1-9419ddf202ab",
   "metadata": {},
   "outputs": [],
   "source": []
  }
 ],
 "metadata": {
  "kernelspec": {
   "display_name": "Wolfram Language 12.3",
   "language": "Wolfram Language",
   "name": "wolframlanguage12.3"
  },
  "language_info": {
   "codemirror_mode": "mathematica",
   "file_extension": ".m",
   "mimetype": "application/vnd.wolfram.m",
   "name": "Wolfram Language",
   "pygments_lexer": "mathematica",
   "version": "12.0"
  }
 },
 "nbformat": 4,
 "nbformat_minor": 5
}
